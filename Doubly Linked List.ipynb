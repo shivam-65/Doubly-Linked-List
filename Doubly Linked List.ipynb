{
 "cells": [
  {
   "cell_type": "code",
   "execution_count": 1,
   "metadata": {},
   "outputs": [],
   "source": [
    "class node:\n",
    "    def __init__(self,data):\n",
    "        self.data=data\n",
    "        self.next=None\n",
    "        self.prev=None"
   ]
  },
  {
   "cell_type": "code",
   "execution_count": 2,
   "metadata": {},
   "outputs": [],
   "source": [
    "class Dll:\n",
    "    def __init__(self):\n",
    "        self.head=None\n",
    "    \n",
    "    def forward_traversal(self):\n",
    "        print()\n",
    "        if self.head is None:\n",
    "            print(\"Doubly linked list is empty\")\n",
    "        else:\n",
    "            a=self.head\n",
    "            while(a):\n",
    "                print(a.data, end=\" \")\n",
    "                a=a.next  \n",
    "                \n",
    "    def backward_traversal(self):\n",
    "        print()\n",
    "        if self.head is None:\n",
    "            print(\"Doubly linked list is empty\")\n",
    "        else:\n",
    "            a=self.head\n",
    "            while(a.next is not None):\n",
    "                a=a.next\n",
    "            while(a is not None):\n",
    "                print(a.data, end=\" \")\n",
    "                a=a.prev\n",
    "                \n",
    "    def insert_at_end(self,data):\n",
    "        print()\n",
    "        nn=node(data)\n",
    "        if self.head is None:\n",
    "            self.head=nn\n",
    "        else:\n",
    "            a=self.head\n",
    "            while a.next is not None:\n",
    "                a=a.next\n",
    "            a.next=nn\n",
    "            \n",
    "    def insert_at_begin(self,data):\n",
    "        print()\n",
    "        nn=node(data)\n",
    "        if self.head is None:\n",
    "            self.head=nn\n",
    "        else:\n",
    "            nn.next=self.head\n",
    "            self.head.prev=nn\n",
    "            self.head=nn\n",
    "            \n",
    "    def insert_at_pos(self,pos,data):\n",
    "        print()\n",
    "        nn=node(data)\n",
    "        a=self.head\n",
    "        for i in range(1,pos-1):\n",
    "            a=a.next\n",
    "        nn.next=a.next\n",
    "        a.next=nn\n",
    "        nn.prev=a\n",
    "        a.next.prev=nn\n",
    "        \n",
    "    def delet_end(self):\n",
    "        print()\n",
    "        if self.head is None:\n",
    "            print(\"linked list is empty\")\n",
    "        else:\n",
    "            pre=self.head\n",
    "            a=self.head.next\n",
    "            while(a.next is not None):\n",
    "                pre=pre.next\n",
    "                a=a.next\n",
    "            pre.next=None \n",
    "            \n",
    "    def delet_begin(self):\n",
    "        print()\n",
    "        if self.head is None:\n",
    "            print(\"linked list is empty\")\n",
    "        else:\n",
    "            a=self.head\n",
    "            self.head=self.head.next\n",
    "            a.next=None\n",
    "            self.head.prev=None\n",
    "            \n",
    "    def delet_pos(self,pos):\n",
    "        print()\n",
    "        if self.head is None:\n",
    "            print(\"linked list is empty\")\n",
    "        else:\n",
    "            pre=self.head\n",
    "            a=self.head.next\n",
    "            for i in range(1,pos-1):\n",
    "                pre=a\n",
    "                a=a.next\n",
    "            pre.next=a.next\n",
    "            a.next.prev=pre\n",
    "            a.next=None"
   ]
  },
  {
   "cell_type": "code",
   "execution_count": 3,
   "metadata": {},
   "outputs": [
    {
     "name": "stdout",
     "output_type": "stream",
     "text": [
      "\n",
      "10 20 30 \n",
      "30 20 10 "
     ]
    }
   ],
   "source": [
    "n1=node(10)\n",
    "dl=Dll()\n",
    "dl.head=n1\n",
    "n2=node(20)\n",
    "n1.next=n2\n",
    "n2.prev=n1\n",
    "n3=node(30)\n",
    "n2.next=n3\n",
    "n3.prev=(n2)\n",
    "dl.forward_traversal()\n",
    "dl.backward_traversal()"
   ]
  },
  {
   "cell_type": "code",
   "execution_count": 4,
   "metadata": {},
   "outputs": [
    {
     "name": "stdout",
     "output_type": "stream",
     "text": [
      "\n",
      "\n",
      "10 20 30 40 "
     ]
    }
   ],
   "source": [
    "dl.insert_at_end(40)\n",
    "dl.forward_traversal()"
   ]
  },
  {
   "cell_type": "code",
   "execution_count": 5,
   "metadata": {},
   "outputs": [
    {
     "name": "stdout",
     "output_type": "stream",
     "text": [
      "\n",
      "\n",
      "50 10 20 30 40 "
     ]
    }
   ],
   "source": [
    "dl.insert_at_begin(50)\n",
    "dl.forward_traversal()"
   ]
  },
  {
   "cell_type": "code",
   "execution_count": 6,
   "metadata": {},
   "outputs": [
    {
     "name": "stdout",
     "output_type": "stream",
     "text": [
      "\n",
      "\n",
      "50 60 10 20 30 40 "
     ]
    }
   ],
   "source": [
    "dl.insert_at_pos(2,60)\n",
    "dl.forward_traversal()"
   ]
  },
  {
   "cell_type": "code",
   "execution_count": 7,
   "metadata": {},
   "outputs": [
    {
     "name": "stdout",
     "output_type": "stream",
     "text": [
      "\n",
      "\n",
      "50 60 10 20 30 "
     ]
    }
   ],
   "source": [
    "dl.delet_end()\n",
    "dl.forward_traversal()"
   ]
  },
  {
   "cell_type": "code",
   "execution_count": 8,
   "metadata": {},
   "outputs": [
    {
     "name": "stdout",
     "output_type": "stream",
     "text": [
      "\n",
      "\n",
      "60 10 20 30 "
     ]
    }
   ],
   "source": [
    "dl.delet_begin()\n",
    "dl.forward_traversal()"
   ]
  },
  {
   "cell_type": "code",
   "execution_count": 9,
   "metadata": {},
   "outputs": [
    {
     "name": "stdout",
     "output_type": "stream",
     "text": [
      "\n",
      "\n",
      "60 10 30 "
     ]
    }
   ],
   "source": [
    "dl.delet_pos(3)\n",
    "dl.forward_traversal()"
   ]
  },
  {
   "cell_type": "code",
   "execution_count": null,
   "metadata": {},
   "outputs": [],
   "source": []
  }
 ],
 "metadata": {
  "kernelspec": {
   "display_name": "Python 3",
   "language": "python",
   "name": "python3"
  },
  "language_info": {
   "codemirror_mode": {
    "name": "ipython",
    "version": 3
   },
   "file_extension": ".py",
   "mimetype": "text/x-python",
   "name": "python",
   "nbconvert_exporter": "python",
   "pygments_lexer": "ipython3",
   "version": "3.8.5"
  }
 },
 "nbformat": 4,
 "nbformat_minor": 4
}
